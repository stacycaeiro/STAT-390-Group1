{
 "cells": [
  {
   "cell_type": "code",
   "execution_count": null,
   "id": "63c3c555-74e8-4964-a18b-a9a892840cf8",
   "metadata": {},
   "outputs": [],
   "source": []
  }
 ],
 "metadata": {
  "kernelspec": {
   "display_name": "",
   "name": ""
  },
  "language_info": {
   "name": ""
  }
 },
 "nbformat": 4,
 "nbformat_minor": 5
}
